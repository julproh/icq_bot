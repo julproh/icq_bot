{
 "cells": [
  {
   "cell_type": "markdown",
   "metadata": {},
   "source": [
    "# Вяглядит пока как дерьмо, зато работает само))))"
   ]
  },
  {
   "cell_type": "code",
   "execution_count": 18,
   "metadata": {},
   "outputs": [],
   "source": [
    "import threading\n",
    "import pandas\n",
    "import urllib.request\n",
    "import schedule\n",
    "import time\n",
    "import ssl\n",
    "import matplotlib.pyplot as plt\n",
    "import matplotlib.dates as mdates\n",
    "import numpy as np\n",
    "import datetime as dt\n",
    "from scipy.optimize import curve_fit\n",
    "import matplotlib.ticker as ticker"
   ]
  },
  {
   "cell_type": "code",
   "execution_count": 347,
   "metadata": {
    "tags": [
     "outputPrepend"
    ]
   },
   "outputs": [
    {
     "data": {
      "text/plain": [
       "Every 1 day at 11:31:00 do run_threaded(<function downloading at 0x12daa2378>) (last run: [never], next run: 2020-04-30 11:31:00)"
      ]
     },
     "execution_count": 347,
     "metadata": {},
     "output_type": "execute_result"
    }
   ],
   "source": [
    "def downloading():\n",
    "    print('Beginning file download with urllib2...')\n",
    "    ssl._create_default_https_context = ssl._create_unverified_context\n",
    "    url = 'https://github.com/owid/covid-19-data/raw/master/public/data/owid-covid-data.xlsx'\n",
    "    urllib.request.urlretrieve(url, 'covid_data.xlsx')\n",
    "\n",
    "def run_threaded(downloading):\n",
    "    job_thread = threading.Thread(target=downloading, daemon = True)\n",
    "    job_thread.start()\n",
    "\n",
    "schedule.every().day.at(\"11:31\").do(run_threaded, downloading)\n",
    "\n",
    "\n",
    "#я чекнул, на сайте обновляется ,каждый день в 11:30, мы будем в 11:31"
   ]
  },
  {
   "cell_type": "code",
   "execution_count": null,
   "metadata": {},
   "outputs": [],
   "source": [
    "print('Beginning file download with urllib2...')\n",
    "url = 'https://github.com/owid/covid-19-data/raw/master/public/data/owid-covid-data.xlsx'\n",
    "ssl._create_default_https_context = ssl._create_unverified_context\n",
    "urllib.request.urlretrieve(url, 'covid_data.xlsx')\n",
    "\n",
    "# это для теста, забей"
   ]
  },
  {
   "cell_type": "code",
   "execution_count": 2,
   "metadata": {},
   "outputs": [
    {
     "data": {
      "text/html": [
       "<div>\n",
       "<style scoped>\n",
       "    .dataframe tbody tr th:only-of-type {\n",
       "        vertical-align: middle;\n",
       "    }\n",
       "\n",
       "    .dataframe tbody tr th {\n",
       "        vertical-align: top;\n",
       "    }\n",
       "\n",
       "    .dataframe thead th {\n",
       "        text-align: right;\n",
       "    }\n",
       "</style>\n",
       "<table border=\"1\" class=\"dataframe\">\n",
       "  <thead>\n",
       "    <tr style=\"text-align: right;\">\n",
       "      <th></th>\n",
       "      <th>iso_code</th>\n",
       "      <th>location</th>\n",
       "      <th>date</th>\n",
       "      <th>total_cases</th>\n",
       "      <th>new_cases</th>\n",
       "      <th>total_deaths</th>\n",
       "      <th>new_deaths</th>\n",
       "      <th>total_cases_per_million</th>\n",
       "      <th>new_cases_per_million</th>\n",
       "      <th>total_deaths_per_million</th>\n",
       "      <th>new_deaths_per_million</th>\n",
       "      <th>total_tests</th>\n",
       "      <th>new_tests</th>\n",
       "      <th>total_tests_per_thousand</th>\n",
       "      <th>new_tests_per_thousand</th>\n",
       "      <th>tests_units</th>\n",
       "    </tr>\n",
       "  </thead>\n",
       "  <tbody>\n",
       "    <tr>\n",
       "      <th>0</th>\n",
       "      <td>ABW</td>\n",
       "      <td>Aruba</td>\n",
       "      <td>2020-03-13</td>\n",
       "      <td>2</td>\n",
       "      <td>2</td>\n",
       "      <td>0</td>\n",
       "      <td>0</td>\n",
       "      <td>18.733</td>\n",
       "      <td>18.733</td>\n",
       "      <td>0.0</td>\n",
       "      <td>0.0</td>\n",
       "      <td>NaN</td>\n",
       "      <td>NaN</td>\n",
       "      <td>NaN</td>\n",
       "      <td>NaN</td>\n",
       "      <td>NaN</td>\n",
       "    </tr>\n",
       "    <tr>\n",
       "      <th>1</th>\n",
       "      <td>ABW</td>\n",
       "      <td>Aruba</td>\n",
       "      <td>2020-03-20</td>\n",
       "      <td>4</td>\n",
       "      <td>2</td>\n",
       "      <td>0</td>\n",
       "      <td>0</td>\n",
       "      <td>37.465</td>\n",
       "      <td>18.733</td>\n",
       "      <td>0.0</td>\n",
       "      <td>0.0</td>\n",
       "      <td>NaN</td>\n",
       "      <td>NaN</td>\n",
       "      <td>NaN</td>\n",
       "      <td>NaN</td>\n",
       "      <td>NaN</td>\n",
       "    </tr>\n",
       "    <tr>\n",
       "      <th>2</th>\n",
       "      <td>ABW</td>\n",
       "      <td>Aruba</td>\n",
       "      <td>2020-03-24</td>\n",
       "      <td>12</td>\n",
       "      <td>8</td>\n",
       "      <td>0</td>\n",
       "      <td>0</td>\n",
       "      <td>112.395</td>\n",
       "      <td>74.930</td>\n",
       "      <td>0.0</td>\n",
       "      <td>0.0</td>\n",
       "      <td>NaN</td>\n",
       "      <td>NaN</td>\n",
       "      <td>NaN</td>\n",
       "      <td>NaN</td>\n",
       "      <td>NaN</td>\n",
       "    </tr>\n",
       "    <tr>\n",
       "      <th>3</th>\n",
       "      <td>ABW</td>\n",
       "      <td>Aruba</td>\n",
       "      <td>2020-03-25</td>\n",
       "      <td>17</td>\n",
       "      <td>5</td>\n",
       "      <td>0</td>\n",
       "      <td>0</td>\n",
       "      <td>159.227</td>\n",
       "      <td>46.831</td>\n",
       "      <td>0.0</td>\n",
       "      <td>0.0</td>\n",
       "      <td>NaN</td>\n",
       "      <td>NaN</td>\n",
       "      <td>NaN</td>\n",
       "      <td>NaN</td>\n",
       "      <td>NaN</td>\n",
       "    </tr>\n",
       "    <tr>\n",
       "      <th>4</th>\n",
       "      <td>ABW</td>\n",
       "      <td>Aruba</td>\n",
       "      <td>2020-03-26</td>\n",
       "      <td>19</td>\n",
       "      <td>2</td>\n",
       "      <td>0</td>\n",
       "      <td>0</td>\n",
       "      <td>177.959</td>\n",
       "      <td>18.733</td>\n",
       "      <td>0.0</td>\n",
       "      <td>0.0</td>\n",
       "      <td>NaN</td>\n",
       "      <td>NaN</td>\n",
       "      <td>NaN</td>\n",
       "      <td>NaN</td>\n",
       "      <td>NaN</td>\n",
       "    </tr>\n",
       "  </tbody>\n",
       "</table>\n",
       "</div>"
      ],
      "text/plain": [
       "  iso_code location        date  total_cases  new_cases  total_deaths  \\\n",
       "0      ABW    Aruba  2020-03-13            2          2             0   \n",
       "1      ABW    Aruba  2020-03-20            4          2             0   \n",
       "2      ABW    Aruba  2020-03-24           12          8             0   \n",
       "3      ABW    Aruba  2020-03-25           17          5             0   \n",
       "4      ABW    Aruba  2020-03-26           19          2             0   \n",
       "\n",
       "   new_deaths  total_cases_per_million  new_cases_per_million  \\\n",
       "0           0                   18.733                 18.733   \n",
       "1           0                   37.465                 18.733   \n",
       "2           0                  112.395                 74.930   \n",
       "3           0                  159.227                 46.831   \n",
       "4           0                  177.959                 18.733   \n",
       "\n",
       "   total_deaths_per_million  new_deaths_per_million  total_tests  new_tests  \\\n",
       "0                       0.0                     0.0          NaN        NaN   \n",
       "1                       0.0                     0.0          NaN        NaN   \n",
       "2                       0.0                     0.0          NaN        NaN   \n",
       "3                       0.0                     0.0          NaN        NaN   \n",
       "4                       0.0                     0.0          NaN        NaN   \n",
       "\n",
       "   total_tests_per_thousand  new_tests_per_thousand tests_units  \n",
       "0                       NaN                     NaN         NaN  \n",
       "1                       NaN                     NaN         NaN  \n",
       "2                       NaN                     NaN         NaN  \n",
       "3                       NaN                     NaN         NaN  \n",
       "4                       NaN                     NaN         NaN  "
      ]
     },
     "execution_count": 2,
     "metadata": {},
     "output_type": "execute_result"
    }
   ],
   "source": [
    "data = pandas.read_excel('covid_data.xlsx')\n",
    "data.head()\n",
    "\n",
    "#считываем данные"
   ]
  },
  {
   "cell_type": "code",
   "execution_count": 3,
   "metadata": {},
   "outputs": [
    {
     "data": {
      "text/plain": [
       "0       2020-03-13\n",
       "1       2020-03-20\n",
       "2       2020-03-24\n",
       "3       2020-03-25\n",
       "4       2020-03-26\n",
       "           ...    \n",
       "14085   2020-02-28\n",
       "14086   2020-02-29\n",
       "14087   2020-03-01\n",
       "14088   2020-03-02\n",
       "14089   2020-03-10\n",
       "Name: date, Length: 14090, dtype: datetime64[ns]"
      ]
     },
     "execution_count": 3,
     "metadata": {},
     "output_type": "execute_result"
    }
   ],
   "source": [
    "data['date'] = pandas.to_datetime(data['date'])\n",
    "data['date']\n",
    "\n",
    "#преобразуем даты к божескому виду"
   ]
  },
  {
   "cell_type": "markdown",
   "metadata": {},
   "source": [
    "# Вот здесь надо ввести название страны и все сделается само"
   ]
  },
  {
   "cell_type": "code",
   "execution_count": 358,
   "metadata": {},
   "outputs": [],
   "source": [
    "country = 'Ukraine'\n",
    "date_interval = 5 #интервал для графика, забей, не трогай"
   ]
  },
  {
   "cell_type": "code",
   "execution_count": 359,
   "metadata": {},
   "outputs": [],
   "source": [
    "# для поиска нужной страны в списке\n",
    "def get_coordinates(country):\n",
    "    amount = 0\n",
    "    for i in range(len(data)):\n",
    "        if data.iloc[i,1] == country:\n",
    "            amount += 1\n",
    "            if amount == 1:\n",
    "                start = i\n",
    "            end = start + amount\n",
    "        else:\n",
    "            pass\n",
    "    return [start, end, amount]"
   ]
  },
  {
   "cell_type": "code",
   "execution_count": 360,
   "metadata": {},
   "outputs": [
    {
     "data": {
      "text/plain": [
       "[13160, 13207, 47]"
      ]
     },
     "execution_count": 360,
     "metadata": {},
     "output_type": "execute_result"
    }
   ],
   "source": [
    "# Получили координаты страны : индекс начала, индекс конца и длинна этого списка\n",
    "coordinates = get_coordinates(country)\n",
    "coordinates"
   ]
  },
  {
   "cell_type": "code",
   "execution_count": 361,
   "metadata": {},
   "outputs": [],
   "source": [
    "start = coordinates[0]\n",
    "end = coordinates[1]\n",
    "amount = coordinates[2]"
   ]
  },
  {
   "cell_type": "code",
   "execution_count": 362,
   "metadata": {},
   "outputs": [],
   "source": [
    "# функция апроксимации\n",
    "def f(x, a, b, c):\n",
    "    return np.exp(a*x + b) + c"
   ]
  },
  {
   "cell_type": "code",
   "execution_count": 363,
   "metadata": {},
   "outputs": [],
   "source": [
    "# Определили списки количества зараженных\n",
    "Infected = np.array(data['total_cases'].iloc[start:end])\n",
    "days = np.arange(1,amount+1)\n"
   ]
  },
  {
   "cell_type": "code",
   "execution_count": 364,
   "metadata": {},
   "outputs": [],
   "source": [
    "# Отсеиваем хламную информацию, будем строить минимум от 100 заболевших\n",
    "def find_new_start(Infected):\n",
    "    Infected_2 = []\n",
    "    n = 0\n",
    "    for i in range(len(Infected)):\n",
    "        if Infected[i] > 100:\n",
    "            n += 1\n",
    "            if n == 1:\n",
    "                start_new = i\n",
    "            Infected_2.append(Infected[i])\n",
    "    Infected_2 = np.array(Infected_2)\n",
    "    return (Infected_2, start_new)"
   ]
  },
  {
   "cell_type": "code",
   "execution_count": 365,
   "metadata": {},
   "outputs": [],
   "source": [
    "start_new = find_new_start(Infected)[1]\n",
    "Infected_2 = find_new_start(Infected)[0]\n",
    "days1 = np.arange(1,amount-start_new+1)"
   ]
  },
  {
   "cell_type": "code",
   "execution_count": 366,
   "metadata": {},
   "outputs": [
    {
     "name": "stdout",
     "output_type": "stream",
     "text": [
      "a =  0.05229061752923753\n",
      "b =  7.603326404897511\n",
      "c =  -2340.8508846098034\n",
      "sigma_a =  0.004194258376722258\n",
      "sigma_b =  0.1737321246640851\n",
      "sigma_c =  462.9107661166797\n",
      "Stand_error =  300.22581244281514\n",
      "Relative S_r a = %  8.02105344113999\n",
      "Relative S_r b = %  2.2849489212008507\n",
      "Relative S_r c = %  19.775320553741395\n"
     ]
    }
   ],
   "source": [
    "#Апроксимация\n",
    "\n",
    "\n",
    "#коэффициенты\n",
    "beta_opt1, beta_cov1 = curve_fit(f, days1, Infected_2)\n",
    "a = beta_opt1[0]\n",
    "b = beta_opt1[1]\n",
    "c = beta_opt1[2]\n",
    "\n",
    "print('a = ', a)\n",
    "print('b = ', b)\n",
    "print('c = ', c)\n",
    "\n",
    "\n",
    "#получим погрешности для коэффициентов\n",
    "sigma_a = np.sqrt(beta_cov1[0,0])\n",
    "sigma_b = np.sqrt(beta_cov1[1,1])\n",
    "sigma_c = np.sqrt(beta_cov1[2,2])\n",
    "\n",
    "print('sigma_a = ', sigma_a)\n",
    "print('sigma_b = ', sigma_b)\n",
    "print('sigma_c = ', sigma_c)\n",
    "\n",
    "\n",
    "residuals1 = Infected_2 - f(days1,*beta_opt1)\n",
    "fres1 = sum(residuals1**2)\n",
    "Stand_error = np.sqrt(fres1/len(days1))\n",
    "print('Stand_error = ', Stand_error)\n",
    "\n",
    "print('Relative S_r a = % ', 100* sigma_a/a)\n",
    "print('Relative S_r b = % ', 100* sigma_b/abs(b))\n",
    "print('Relative S_r c = % ', 100* sigma_c/abs(c))\n",
    "\n"
   ]
  },
  {
   "cell_type": "code",
   "execution_count": 367,
   "metadata": {},
   "outputs": [
    {
     "data": {
      "image/png": "[encoded data removed]",
      "text/plain": [
       "<Figure size 1080x864 with 1 Axes>"
      ]
     },
     "metadata": {
      "needs_background": "light"
     },
     "output_type": "display_data"
    }
   ],
   "source": [
    "fig, ax = plt.subplots(figsize=(15, 12))\n",
    "\n",
    "past = min(data['date'].iloc[start+start_new:end])\n",
    "now = max(data['date'].iloc[start+start_new:end]) + dt.timedelta(days=1)\n",
    "days2 = mdates.drange(past,now,dt.timedelta(days=1))\n",
    "\n",
    "\n",
    "delta = days2[0] - 1\n",
    "beta_opt2 = np.array([a,b-delta * a,c])\n",
    "\n",
    "\n",
    "\n",
    "ax.plot(days2, f(days2, *beta_opt2), 'coral', lw=2)\n",
    "#ax.plot(days2, Infected, 'coral', lw=2)\n",
    "#ax.scatter(days2, Infected, s = 1, c = 'red')\n",
    "lgnd = ax.legend(['We gonna chill ~(˘▾˘~) with error $\\pm$ %d people' % Stand_error ], loc='upper left', shadow=True)\n",
    "\n",
    "ax.set_title('Infected in %s (date)      from %s to %s' % (country, min(data['date'].iloc[start+start_new:end]).strftime(\"%d.%m\"), max(data['date'].iloc[start+start_new:end]).strftime(\"%d.%m\")))\n",
    "ax.set_ylabel('Infected')\n",
    "ax.set_xlabel('Date (day.month)')\n",
    "\n",
    "ax.grid(which='major',\n",
    "        color = 'k')\n",
    "\n",
    "ax.minorticks_on()\n",
    "\n",
    "ax.grid(which='minor',\n",
    "        color = 'gray',\n",
    "        linestyle = ':', linewidth = 0.5)\n",
    "\n",
    "ax.grid(which='major', linewidth = 0.5)\n",
    "\n",
    "\n",
    "plt.gca().xaxis.set_major_formatter(mdates.DateFormatter('%d.%m'))\n",
    "plt.gca().xaxis.set_major_locator(mdates.DayLocator(interval=date_interval))\n",
    "plt.errorbar(days2, Infected_2, fmt = 'ro', markersize = '2', yerr = Stand_error, capsize = 2, elinewidth = 2, capthick = 1, ecolor = 'violet')\n",
    "plt.gcf().autofmt_xdate()\n",
    "plt.savefig('infected2.pdf')\n",
    "plt.show()\n",
    "\n"
   ]
  },
  {
   "cell_type": "code",
   "execution_count": 369,
   "metadata": {},
   "outputs": [
    {
     "data": {
      "image/png": "[encoded data removed]",
      "text/plain": [
       "<Figure size 864x432 with 1 Axes>"
      ]
     },
     "metadata": {},
     "output_type": "display_data"
    }
   ],
   "source": [
    "# я пытаюсь построить гистограмму, выглядит пока как дерьмо ,зато работает само ))))\n",
    "\n",
    "fig, ax = plt.subplots()\n",
    "\n",
    "ax.bar(data['date'].iloc[start+start_new:end], Infected_2)\n",
    "\n",
    "ax.set_facecolor('seashell')\n",
    "fig.set_facecolor('floralwhite')\n",
    "fig.set_figwidth(12)    \n",
    "fig.set_figheight(6)    \n",
    "plt.savefig('infected_hist.pdf')\n",
    "plt.show()"
   ]
  },
  {
   "cell_type": "code",
   "execution_count": null,
   "metadata": {},
   "outputs": [],
   "source": []
  },
  {
   "cell_type": "code",
   "execution_count": null,
   "metadata": {},
   "outputs": [],
   "source": []
  }
 ],
 "metadata": {
  "kernelspec": {
   "display_name": "Python 3.7.3 64-bit",
   "language": "python",
   "name": "python37364bit87aa4368e1394b7d9940185d01174cc0"
  },
  "language_info": {
   "codemirror_mode": {
    "name": "ipython",
    "version": 3
   },
   "file_extension": ".py",
   "mimetype": "text/x-python",
   "name": "python",
   "nbconvert_exporter": "python",
   "pygments_lexer": "ipython3",
   "version": "3.7.3"
  }
 },
 "nbformat": 4,
 "nbformat_minor": 2
}
